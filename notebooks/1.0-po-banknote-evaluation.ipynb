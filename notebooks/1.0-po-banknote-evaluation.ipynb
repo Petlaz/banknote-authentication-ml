{
 "cells": [
  {
   "cell_type": "markdown",
   "id": "26c802e9-d455-49d5-bb0b-125b563e8fdc",
   "metadata": {},
   "source": [
    "## Evaluation Notebook\n",
    "\n",
    "### Imports & Config"
   ]
  },
  {
   "cell_type": "code",
   "execution_count": null,
   "id": "a4e15eeb-06ca-4cbe-946a-95df8d22e43a",
   "metadata": {},
   "outputs": [],
   "source": [
    "import joblib\n",
    "import numpy as np\n",
    "import pandas as pd\n",
    "import matplotlib.pyplot as plt\n",
    "import seaborn as sns\n",
    "from banknote_auth.features import load_clean_data, split_features_targets, scale_features\n",
    "from banknote_auth.config import MODELS_DIR\n",
    "from sklearn.model_selection import train_test_split\n",
    "\n",
    "\n",
    "from sklearn.metrics import (\n",
    "    accuracy_score,\n",
    "    classification_report,\n",
    "    confusion_matrix,\n",
    "    roc_auc_score,\n",
    "    RocCurveDisplay\n",
    ")\n"
   ]
  },
  {
   "cell_type": "markdown",
   "id": "5bd7f164-49ab-4bca-9616-f3f1a1e11243",
   "metadata": {},
   "source": [
    "### Load and Prepare Data"
   ]
  },
  {
   "cell_type": "code",
   "execution_count": null,
   "id": "1a0c295d-0d0c-41f3-97b1-251bab0531b1",
   "metadata": {},
   "outputs": [],
   "source": [
    "# Load and prepare data\n",
    "df = load_clean_data()\n",
    "X, y = split_features_targets(df)\n",
    "\n",
    "# Train-test split\n",
    "X_train, X_test, y_train, y_test = train_test_split(X, y, stratify=y, test_size=0.2, random_state=42)\n",
    "\n",
    "# Scale features\n",
    "X_train_scaled, X_test_scaled = scale_features(X_train, X_test)\n"
   ]
  },
  {
   "cell_type": "markdown",
   "id": "31d2f850-8f25-4781-b1ba-68d0f8b94532",
   "metadata": {},
   "source": [
    "### Load Model and Predict"
   ]
  },
  {
   "cell_type": "code",
   "execution_count": null,
   "id": "194b4913-91b9-458b-82b7-9e128617b6c1",
   "metadata": {},
   "outputs": [],
   "source": [
    "model_path = MODELS_DIR / \"best_model.pkl\"\n",
    "model = joblib.load(model_path)\n",
    "\n",
    "y_pred = model.predict(X_test_scaled)\n",
    "y_proba = model.predict_proba(X_test_scaled)[:, 1]\n"
   ]
  },
  {
   "cell_type": "markdown",
   "id": "efa42a5b-9c36-4e2a-abca-ae4bcd762b99",
   "metadata": {},
   "source": [
    "### Accuracy & Classification Report\n"
   ]
  },
  {
   "cell_type": "code",
   "execution_count": null,
   "id": "649ed9bd-6daa-4c7e-870e-7c788c7e8ef6",
   "metadata": {},
   "outputs": [],
   "source": [
    "acc = accuracy_score(y_test, y_pred)\n",
    "print(f\"Accuracy: {acc:.4f}\\n\")\n",
    "print(\"Classification Report:\")\n",
    "print(classification_report(y_test, y_pred))\n"
   ]
  },
  {
   "cell_type": "markdown",
   "id": "59e414ed-06f3-40c0-8e21-870952e7d05a",
   "metadata": {},
   "source": [
    "### Confusion Matrix"
   ]
  },
  {
   "cell_type": "code",
   "execution_count": null,
   "id": "0bf9a27c-9ada-47ff-9e33-a2db66d81658",
   "metadata": {},
   "outputs": [],
   "source": [
    "cm = confusion_matrix(y_test, y_pred)\n",
    "\n",
    "plt.figure(figsize=(5, 4))\n",
    "#sns.heatmap(cm, annot=True, fmt='d', cmap=\"Blues\", xticklabels=[0, 1], yticklabels=[0, 1])\n",
    "sns.heatmap(cm, annot=True, fmt='d', cmap='Blues', cbar=False,\n",
    "                xticklabels=['Genuine (0)', 'Forged (1)'],\n",
    "                yticklabels=['Genuine (0)', 'Forged (1)'])\n",
    "plt.xlabel(\"Predicted Label\")\n",
    "plt.ylabel(\"Actual Label\")\n",
    "plt.title(\"Confusion Matrix\")\n",
    "plt.show();\n"
   ]
  },
  {
   "cell_type": "markdown",
   "id": "f8c47127-2ca3-4668-9358-8662463861f7",
   "metadata": {},
   "source": [
    "### ROC Curve and AUC"
   ]
  },
  {
   "cell_type": "code",
   "execution_count": null,
   "id": "c0095f7d-e32f-4ced-bd54-3d4ce1058704",
   "metadata": {},
   "outputs": [],
   "source": [
    "auc = roc_auc_score(y_test, y_proba)\n",
    "print(f\"📉 ROC AUC Score: {auc:.4f}\")\n",
    "\n",
    "RocCurveDisplay.from_predictions(y_test, y_proba)\n",
    "plt.plot([0, 1], [0, 1], 'k--', label='Random Chance')\n",
    "plt.grid(True, linestyle='--', alpha=0.5)\n",
    "plt.title(\"ROC Curve\")\n",
    "plt.show()\n"
   ]
  },
  {
   "cell_type": "markdown",
   "id": "76e4a680-49d2-4836-b11e-24d2c0904c09",
   "metadata": {},
   "source": [
    "### Confusion matrix from the final model:\n",
    "\n",
    "### Confusion Matrix - reports/figures/confusion_matrix.png"
   ]
  },
  {
   "cell_type": "code",
   "execution_count": null,
   "id": "fbc8d1df-e576-4c6f-8c55-c4c1d9f89c3a",
   "metadata": {},
   "outputs": [],
   "source": [
    "import os\n",
    "\n",
    "from pathlib import Path\n",
    "import sys\n",
    "\n",
    "# Automatically detect and set the project root\n",
    "PROJ_ROOT = Path.cwd().resolve().parent  \n",
    "sys.path.append(str(PROJ_ROOT))\n",
    "\n",
    "# Create confusion matrix\n",
    "cm = confusion_matrix(y_test, y_pred)\n",
    "\n",
    "plt.figure(figsize=(5, 4))\n",
    "#sns.heatmap(cm, annot=True, fmt='d', cmap=\"Blues\", xticklabels=[0, 1], yticklabels=[0, 1])\n",
    "sns.heatmap(cm, annot=True, fmt='d', cmap='Blues', cbar=False,\n",
    "                xticklabels=['Genuine (0)', 'Forged (1)'],\n",
    "                yticklabels=['Genuine (0)', 'Forged (1)'])\n",
    "plt.xlabel(\"Predicted Label\")\n",
    "plt.ylabel(\"Actual Label\")\n",
    "plt.title(\"Confusion Matrix\")\n",
    "\n",
    "# Save to reports/figures/confusion_matrix.png\n",
    "output_path = os.path.join(PROJ_ROOT, \"reports\", \"figures\", \"confusion_matrix.png\")\n",
    "plt.savefig(output_path, dpi=300, bbox_inches='tight')\n",
    "plt.show()\n",
    "\n",
    "print(f\"Confusion matrix saved to: {output_path}\")\n"
   ]
  },
  {
   "cell_type": "markdown",
   "id": "75bd1e9d-e1ac-45d4-862e-6935789f6f0c",
   "metadata": {},
   "source": [
    "### Save Metrics (Accuracy, Classification Report) as Text and JSON"
   ]
  },
  {
   "cell_type": "code",
   "execution_count": null,
   "id": "d094b504-e9f8-4f22-ae22-7c156e0aaf4d",
   "metadata": {},
   "outputs": [],
   "source": [
    "import json\n",
    "\n",
    "# Calculate evaluation metrics\n",
    "acc = accuracy_score(y_test, y_pred)\n",
    "report = classification_report(y_test, y_pred, output_dict=True)\n",
    "\n",
    "# Prepare output directory\n",
    "metrics_dir = PROJ_ROOT / \"reports\" / \"metrics\"\n",
    "metrics_dir.mkdir(parents=True, exist_ok=True)\n",
    "\n",
    "# Save accuracy + full report as .json\n",
    "with open(metrics_dir / \"classification_report.json\", \"w\") as f_json:\n",
    "    json.dump({\"accuracy\": acc, \"report\": report}, f_json, indent=4)\n",
    "\n",
    "# Save plain text version\n",
    "with open(metrics_dir / \"classification_report.txt\", \"w\") as f_txt:\n",
    "    f_txt.write(f\"Accuracy: {acc:.4f}\\n\\n\")\n",
    "    f_txt.write(classification_report(y_test, y_pred))\n",
    "\n",
    "print(f\"Metrics saved to: {metrics_dir}\")\n"
   ]
  },
  {
   "cell_type": "markdown",
   "id": "61c96b74-8a22-4352-9d2e-c1e14ba1b35f",
   "metadata": {},
   "source": [
    "Output on project structure like:\n",
    "\n",
    "reports/\n",
    "└── metrics/\n",
    "    ├── classification_report.json\n",
    "    └── classification_report.txt\n"
   ]
  },
  {
   "cell_type": "markdown",
   "id": "05ec3e99-8ac6-4601-96d8-145a3d25a91d",
   "metadata": {},
   "source": [
    "### Automate with a Report Script\n",
    "\n",
    "Create a Python file: banknote_auth/reporting/generate_report.py"
   ]
  },
  {
   "cell_type": "code",
   "execution_count": null,
   "id": "24837280-3a95-49a2-9280-14cc541b4002",
   "metadata": {},
   "outputs": [],
   "source": [
    "# banknote_auth/reporting/generate_report.py\n",
    "\n",
    "from banknote_auth.features import load_clean_data, split_features_targets, scale_features\n",
    "from banknote_auth.config import PROJ_ROOT, MODELS_DIR\n",
    "from sklearn.model_selection import train_test_split\n",
    "from sklearn.metrics import accuracy_score, classification_report, confusion_matrix\n",
    "import matplotlib.pyplot as plt\n",
    "import seaborn as sns\n",
    "import joblib\n",
    "import json\n",
    "\n",
    "def generate_report():\n",
    "    df = load_clean_data()\n",
    "    X, y = split_features_targets(df)\n",
    "    X_train, X_test, y_train, y_test = train_test_split(X, y, stratify=y, test_size=0.2, random_state=42)\n",
    "    X_train_scaled, X_test_scaled = scale_features(X_train, X_test)\n",
    "\n",
    "    model = joblib.load(MODELS_DIR / \"voting_classifier.pkl\")\n",
    "    y_pred = model.predict(X_test_scaled)\n",
    "\n",
    "    acc = accuracy_score(y_test, y_pred)\n",
    "    report = classification_report(y_test, y_pred, output_dict=True)\n",
    "    cm = confusion_matrix(y_test, y_pred)\n",
    "\n",
    "    # Save metrics\n",
    "    metrics_dir = PROJ_ROOT / \"reports\" / \"metrics\"\n",
    "    metrics_dir.mkdir(parents=True, exist_ok=True)\n",
    "    with open(metrics_dir / \"classification_report.json\", \"w\") as f_json:\n",
    "        json.dump({\"accuracy\": acc, \"report\": report}, f_json, indent=4)\n",
    "    with open(metrics_dir / \"classification_report.txt\", \"w\") as f_txt:\n",
    "        f_txt.write(f\"Accuracy: {acc:.4f}\\n\\n\")\n",
    "        f_txt.write(classification_report(y_test, y_pred))\n",
    "\n",
    "    # Save confusion matrix\n",
    "    fig_dir = PROJ_ROOT / \"reports\" / \"figures\"\n",
    "    fig_dir.mkdir(parents=True, exist_ok=True)\n",
    "    plt.figure(figsize=(6, 5))\n",
    "    sns.heatmap(cm, annot=True, fmt='d', cmap=\"Blues\", xticklabels=[0, 1], yticklabels=[0, 1])\n",
    "    plt.xlabel(\"Predicted\")\n",
    "    plt.ylabel(\"Actual\")\n",
    "    plt.title(\"Confusion Matrix\")\n",
    "    plt.savefig(fig_dir / \"confusion_matrix.png\", dpi=300, bbox_inches='tight')\n",
    "    plt.close()\n",
    "\n",
    "    print(\"Report generation complete.\")\n",
    "\n",
    "# Optional export declaration\n",
    "__all__ = [\"generate_report\"]\n",
    "\n",
    "if __name__ == \"__main__\":\n",
    "    generate_report()\n"
   ]
  },
  {
   "cell_type": "code",
   "execution_count": null,
   "id": "006520f4-aa1f-41bb-88d4-4148fefc1ef8",
   "metadata": {},
   "outputs": [],
   "source": []
  }
 ],
 "metadata": {
  "kernelspec": {
   "display_name": "Python 3 (ipykernel)",
   "language": "python",
   "name": "python3"
  },
  "language_info": {
   "codemirror_mode": {
    "name": "ipython",
    "version": 3
   },
   "file_extension": ".py",
   "mimetype": "text/x-python",
   "name": "python",
   "nbconvert_exporter": "python",
   "pygments_lexer": "ipython3",
   "version": "3.11.13"
  }
 },
 "nbformat": 4,
 "nbformat_minor": 5
}
